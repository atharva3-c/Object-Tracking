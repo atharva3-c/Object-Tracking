{
 "cells": [
  {
   "cell_type": "code",
   "execution_count": 20,
   "id": "142ad1db-ed24-4010-a974-a33e2c3bc09d",
   "metadata": {},
   "outputs": [],
   "source": [
    "import cv2\n",
    "import numpy as np\n",
    "import time\n",
    "\n"
   ]
  },
  {
   "cell_type": "code",
   "execution_count": 21,
   "id": "3a729ea5-2c0a-4f6f-bd13-d2b0bc974a96",
   "metadata": {},
   "outputs": [],
   "source": [
    "cap = cv2.VideoCapture(r//file source//)  \n",
    "\n",
    "loww = np.array([24, 95, 90])\n",
    "high = np.array([65, 250, 260])\n"
   ]
  },
  {
   "cell_type": "code",
   "execution_count": 22,
   "id": "82b649b7-2afa-4284-96fd-5b8bc20358bc",
   "metadata": {},
   "outputs": [],
   "source": [
    "while True:\n",
    "    ret, frame = cap.read()\n",
    "    if not ret:\n",
    "        break\n",
    "\n",
    "   \n",
    "    hsv = cv2.cvtColor(frame, cv2.COLOR_BGR2HSV)\n",
    "    \n",
    "   \n",
    "    mask = cv2.inRange(hsv, loww, high)\n",
    "    cv2.imshow(\"masked_fr\",mask)\n",
    " \n",
    "    contours, _ = cv2.findContours(mask, cv2.RETR_EXTERNAL, cv2.CHAIN_APPROX_SIMPLE)\n",
    "\n",
    "    if contours:\n",
    "       \n",
    "        largest_contour = max(contours, key=cv2.contourArea)\n",
    "\n",
    "    \n",
    "        M = cv2.moments(largest_contour)\n",
    "        if M[\"m00\"] != 0:\n",
    "            ball_x = int(M[\"m10\"] / M[\"m00\"])\n",
    "            ball_y = int(M[\"m01\"] / M[\"m00\"])\n",
    "\n",
    "   \n",
    "    \n",
    "    cv2.circle(frame, (ball_x, ball_y), 30, (0,128, 255), 5)\n",
    "        \n",
    "   \n",
    "    cv2.imshow(\"track_frame\", frame)\n",
    "    time.sleep(0.03)\n",
    "\n",
    "    \n",
    "    if cv2.waitKey(1) & 0xFF == ord('q'):\n",
    "        break\n",
    "\n",
    "\n",
    "cap.release()\n",
    "cv2.destroyAllWindows()"
   ]
  },
  {
   "cell_type": "code",
   "execution_count": null,
   "id": "8c18c3bf-e357-498f-a186-67f2949c6657",
   "metadata": {},
   "outputs": [],
   "source": []
  },
  {
   "cell_type": "code",
   "execution_count": null,
   "id": "0fe9fb32-66a8-4b33-b3c6-cca865bdf9b3",
   "metadata": {},
   "outputs": [],
   "source": []
  },
  {
   "cell_type": "code",
   "execution_count": null,
   "id": "a89fac68-51d3-4ccb-99f4-1d0e1840c383",
   "metadata": {},
   "outputs": [],
   "source": []
  }
 ],
 "metadata": {
  "kernelspec": {
   "display_name": "Python 3 (ipykernel)",
   "language": "python",
   "name": "python3"
  },
  "language_info": {
   "codemirror_mode": {
    "name": "ipython",
    "version": 3
   },
   "file_extension": ".py",
   "mimetype": "text/x-python",
   "name": "python",
   "nbconvert_exporter": "python",
   "pygments_lexer": "ipython3",
   "version": "3.11.4"
  }
 },
 "nbformat": 4,
 "nbformat_minor": 5
}

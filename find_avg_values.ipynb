{
 "cells": [
  {
   "cell_type": "code",
   "execution_count": 1,
   "id": "63a9a481-f2c5-4bf0-a31c-db8ff697e254",
   "metadata": {},
   "outputs": [],
   "source": [
    "import cv2\n",
    "import numpy as np\n"
   ]
  },
  {
   "cell_type": "code",
   "execution_count": 2,
   "id": "d65a613a-1190-4c51-ba39-a0dde435be94",
   "metadata": {},
   "outputs": [],
   "source": [
    "def callback_fun(event, x, y, flags, param):\n",
    "    if event ==1:\n",
    "        pixel_value = hsv[y, x]\n",
    "        print(\"HSV Values:\", pixel_value)\n"
   ]
  },
  {
   "cell_type": "code",
   "execution_count": 3,
   "id": "6b427148-bb3c-41fb-ac79-5c4ae8730550",
   "metadata": {},
   "outputs": [],
   "source": [
    "frame = cv2.imread(r\"//source//\")"
   ]
  },
  {
   "cell_type": "code",
   "execution_count": 4,
   "id": "ad017d3d-1541-4230-aa34-b4678f4978a1",
   "metadata": {},
   "outputs": [],
   "source": [
    "hsv = cv2.cvtColor(frame, cv2.COLOR_BGR2HSV)\n",
    "cv2.imshow(\"HSV\", hsv)\n",
    "cv2.setMouseCallback(\"HSV\", callback_fun)"
   ]
  },
  {
   "cell_type": "code",
   "execution_count": 5,
   "id": "d903aadb-4c74-4e96-b3df-22b82376927c",
   "metadata": {},
   "outputs": [
    {
     "name": "stdout",
     "output_type": "stream",
     "text": [
      "HSV Values: [ 41 205 113]\n",
      "HSV Values: [ 40 186 155]\n",
      "HSV Values: [ 40 165 156]\n",
      "HSV Values: [ 40 187 128]\n"
     ]
    }
   ],
   "source": [
    "cv2.waitKey(0)\n",
    "cv2.destroyAllWindows()"
   ]
  }
 ],
 "metadata": {
  "kernelspec": {
   "display_name": "Python 3 (ipykernel)",
   "language": "python",
   "name": "python3"
  },
  "language_info": {
   "codemirror_mode": {
    "name": "ipython",
    "version": 3
   },
   "file_extension": ".py",
   "mimetype": "text/x-python",
   "name": "python",
   "nbconvert_exporter": "python",
   "pygments_lexer": "ipython3",
   "version": "3.11.4"
  }
 },
 "nbformat": 4,
 "nbformat_minor": 5
}
